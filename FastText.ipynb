{
 "cells": [
  {
   "cell_type": "code",
   "execution_count": 5,
   "id": "c8b13918",
   "metadata": {},
   "outputs": [
    {
     "name": "stdout",
     "output_type": "stream",
     "text": [
      "Collecting fasttext\n",
      "  Downloading fasttext-0.9.2.tar.gz (68 kB)\n",
      "Collecting pybind11>=2.2\n",
      "  Using cached pybind11-2.11.1-py3-none-any.whl (227 kB)\n",
      "Requirement already satisfied: setuptools>=0.7.0 in c:\\users\\dell\\anaconda3\\lib\\site-packages (from fasttext) (61.2.0)\n",
      "Requirement already satisfied: numpy in c:\\users\\dell\\anaconda3\\lib\\site-packages (from fasttext) (1.21.5)\n",
      "Building wheels for collected packages: fasttext\n",
      "  Building wheel for fasttext (setup.py): started\n",
      "  Building wheel for fasttext (setup.py): finished with status 'done'\n",
      "  Created wheel for fasttext: filename=fasttext-0.9.2-cp39-cp39-win_amd64.whl size=230310 sha256=7c909cc11d6d4129db302f366aeff80d79291f0c46e9f5e1f5b0edf7958d3584\n",
      "  Stored in directory: c:\\users\\dell\\appdata\\local\\pip\\cache\\wheels\\64\\57\\bc\\1741406019061d5664914b070bd3e71f6244648732bc96109e\n",
      "Successfully built fasttext\n",
      "Installing collected packages: pybind11, fasttext\n",
      "Successfully installed fasttext-0.9.2 pybind11-2.11.1\n"
     ]
    }
   ],
   "source": [
    "!pip install fasttext"
   ]
  },
  {
   "cell_type": "code",
   "execution_count": 6,
   "id": "8c8bf57c",
   "metadata": {},
   "outputs": [],
   "source": [
    "import fasttext as ft\n",
    "from sklearn.metrics.pairwise import cosine_similarity"
   ]
  },
  {
   "cell_type": "code",
   "execution_count": 9,
   "id": "477b0353",
   "metadata": {},
   "outputs": [
    {
     "name": "stderr",
     "output_type": "stream",
     "text": [
      "[nltk_data] Downloading package stopwords to\n",
      "[nltk_data]     C:\\Users\\DELL\\AppData\\Roaming\\nltk_data...\n",
      "[nltk_data]   Unzipping corpora\\stopwords.zip.\n"
     ]
    },
    {
     "data": {
      "text/plain": [
       "True"
      ]
     },
     "execution_count": 9,
     "metadata": {},
     "output_type": "execute_result"
    }
   ],
   "source": [
    "import nltk\n",
    "nltk.download('stopwords')"
   ]
  },
  {
   "cell_type": "code",
   "execution_count": 10,
   "id": "a7eb9385",
   "metadata": {},
   "outputs": [],
   "source": [
    "from string import punctuation\n",
    "from nltk.corpus import stopwords\n",
    "from nltk.tokenize import word_tokenize\n",
    "stop_words = set(stopwords.words('english'))"
   ]
  },
  {
   "cell_type": "code",
   "execution_count": 11,
   "id": "e71d5b66",
   "metadata": {},
   "outputs": [],
   "source": [
    "corpus = [\n",
    "\"I would like to learn machine learning\",\n",
    "\"Natural Language Processing is a sub field in machine learning\",\n",
    "\"NLP stands for Natural Language Processing\",\n",
    "\"Text embedding is an important step in NLP\",\n",
    "\"Text embedding produces numerical representation of texts\",\n",
    "\"TFIDF can produce dense numerical vector form of text\"\n",
    "]\n",
    "boilerplate = []"
   ]
  },
  {
   "cell_type": "code",
   "execution_count": 20,
   "id": "62333406",
   "metadata": {},
   "outputs": [
    {
     "data": {
      "text/plain": [
       "[['i', 'would', 'like', 'learn', 'machine', 'learning'],\n",
       " ['natural', 'language', 'processing', 'sub', 'field', 'machine', 'learning'],\n",
       " ['nlp', 'stands', 'natural', 'language', 'processing'],\n",
       " ['text', 'embedding', 'important', 'step', 'nlp'],\n",
       " ['text', 'embedding', 'produces', 'numerical', 'representation', 'texts'],\n",
       " ['tfidf', 'produce', 'dense', 'numerical', 'vector', 'form', 'text']]"
      ]
     },
     "execution_count": 20,
     "metadata": {},
     "output_type": "execute_result"
    }
   ],
   "source": [
    "cleanCorpus = []\n",
    "for sentence in corpus:\n",
    "    text_tokens = word_tokenize(sentence)\n",
    "    cleanCorpus.append([w.lower() for w in text_tokens if (not w in stop_words) and (not w in punctuation) and (not w in boilerplate)]) \n",
    "cleanCorpus\n"
   ]
  },
  {
   "cell_type": "code",
   "execution_count": 23,
   "id": "8b894684",
   "metadata": {},
   "outputs": [],
   "source": [
    "with open('./datafile.txt','w') as f: #create an input directory\n",
    "    for line in cleanCorpus:\n",
    "        f.write(str(line))"
   ]
  },
  {
   "cell_type": "code",
   "execution_count": 26,
   "id": "baeef94b",
   "metadata": {},
   "outputs": [],
   "source": [
    "embedding_model = ft.train_unsupervised(input='./datafile.txt', model='skipgram', thread=4, dim=20, epoch=10, minCount=1,verbose=True)"
   ]
  },
  {
   "cell_type": "code",
   "execution_count": 27,
   "id": "38065985",
   "metadata": {},
   "outputs": [
    {
     "data": {
      "text/plain": [
       "array([ 0.00023307, -0.00705989,  0.00475206, -0.0015216 ,  0.00270557,\n",
       "       -0.00106408,  0.00166221, -0.00054808,  0.00079976,  0.00313543,\n",
       "       -0.00018508, -0.00144309,  0.00092846,  0.0011722 , -0.00523766,\n",
       "       -0.00083455,  0.00219534,  0.00092186, -0.00625458,  0.00259048],\n",
       "      dtype=float32)"
      ]
     },
     "execution_count": 27,
     "metadata": {},
     "output_type": "execute_result"
    }
   ],
   "source": [
    "vector1 = embedding_model.get_word_vector(\"language\")\n",
    "vector1"
   ]
  },
  {
   "cell_type": "code",
   "execution_count": 28,
   "id": "7a9638f4",
   "metadata": {},
   "outputs": [
    {
     "data": {
      "text/plain": [
       "array([ 0.00379461,  0.0046598 , -0.00015134, -0.00065575, -0.00038034,\n",
       "       -0.006492  , -0.00256349, -0.00021307, -0.00292247,  0.0075096 ,\n",
       "       -0.00536005, -0.00065287, -0.00510129, -0.0031775 , -0.00288229,\n",
       "        0.00212159,  0.00281894, -0.00462153, -0.00608138,  0.00703094],\n",
       "      dtype=float32)"
      ]
     },
     "execution_count": 28,
     "metadata": {},
     "output_type": "execute_result"
    }
   ],
   "source": [
    "vector2 = embedding_model.get_word_vector(\"natural\")\n",
    "vector2"
   ]
  },
  {
   "cell_type": "code",
   "execution_count": 29,
   "id": "908ec1f2",
   "metadata": {},
   "outputs": [
    {
     "data": {
      "text/plain": [
       "0.22524623572826385"
      ]
     },
     "execution_count": 29,
     "metadata": {},
     "output_type": "execute_result"
    }
   ],
   "source": [
    "cosine_similarity([vector1], [vector2]).item(0)"
   ]
  },
  {
   "cell_type": "code",
   "execution_count": 30,
   "id": "146a1b43",
   "metadata": {},
   "outputs": [
    {
     "data": {
      "text/plain": [
       "0.09802304208278656"
      ]
     },
     "execution_count": 30,
     "metadata": {},
     "output_type": "execute_result"
    }
   ],
   "source": [
    "vector3 = embedding_model.get_word_vector(\"text\")\n",
    "cosine_similarity([vector2], [vector3]).item(0)"
   ]
  },
  {
   "cell_type": "code",
   "execution_count": 31,
   "id": "4961ae5a",
   "metadata": {},
   "outputs": [
    {
     "data": {
      "text/plain": [
       "array([ 0.00082471, -0.00050087, -0.00199241, -0.002722  , -0.00123138,\n",
       "        0.00940048,  0.00419787,  0.01166777,  0.00342794, -0.00709778,\n",
       "        0.00056245,  0.00293621, -0.00419826, -0.00301849,  0.00231609,\n",
       "       -0.00390078,  0.00366392,  0.00281464, -0.00234629, -0.00212018],\n",
       "      dtype=float32)"
      ]
     },
     "execution_count": 31,
     "metadata": {},
     "output_type": "execute_result"
    }
   ],
   "source": [
    "vector4 = embedding_model.get_word_vector(\"speech\")\n",
    "vector4"
   ]
  },
  {
   "cell_type": "code",
   "execution_count": 32,
   "id": "c07db3d0",
   "metadata": {},
   "outputs": [
    {
     "data": {
      "text/plain": [
       "-0.12811899185180664"
      ]
     },
     "execution_count": 32,
     "metadata": {},
     "output_type": "execute_result"
    }
   ],
   "source": [
    "cosine_similarity([vector1], [vector4]).item(0)"
   ]
  },
  {
   "cell_type": "code",
   "execution_count": null,
   "id": "9212fd72",
   "metadata": {},
   "outputs": [],
   "source": []
  }
 ],
 "metadata": {
  "kernelspec": {
   "display_name": "Python 3 (ipykernel)",
   "language": "python",
   "name": "python3"
  },
  "language_info": {
   "codemirror_mode": {
    "name": "ipython",
    "version": 3
   },
   "file_extension": ".py",
   "mimetype": "text/x-python",
   "name": "python",
   "nbconvert_exporter": "python",
   "pygments_lexer": "ipython3",
   "version": "3.9.12"
  }
 },
 "nbformat": 4,
 "nbformat_minor": 5
}
